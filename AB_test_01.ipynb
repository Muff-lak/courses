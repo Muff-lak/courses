{
 "cells": [
  {
   "cell_type": "code",
   "execution_count": 1,
   "id": "4c5bef22-45bc-4e13-8246-6857f5524760",
   "metadata": {},
   "outputs": [],
   "source": [
    "import pandas as pd\n",
    "import pandahouse\n",
    "import seaborn as sns\n",
    "import matplotlib.pyplot as plt\n",
    "import numpy as np\n",
    "import hashlib\n",
    "import swifter\n",
    "from scipy import stats\n",
    "%matplotlib inline"
   ]
  },
  {
   "cell_type": "code",
   "execution_count": 2,
   "id": "f14b1b9a-4dfa-410b-8763-ab00d26df6e3",
   "metadata": {},
   "outputs": [],
   "source": [
    "connection = {'host': 'https://clickhouse.lab.karpov.courses',\n",
    "'database':'simulator_20241020',\n",
    "'user':'student',\n",
    "'password':'dpo_python_2020'\n",
    "}"
   ]
  },
  {
   "cell_type": "code",
   "execution_count": 6,
   "id": "ecf170d8-7b6c-4ef5-80f6-d1221a7b49b4",
   "metadata": {},
   "outputs": [],
   "source": [
    "q = \"\"\"\n",
    "SELECT user_id, exp_group, SUM(action = 'like') AS likes, SUM(action = 'view') AS views\n",
    "FROM {db}.feed_actions\n",
    "WHERE toDate(time) >= '2024-09-20' AND toDate(time) <= '2024-09-26' AND exp_group IN (0,1)\n",
    "GROUP BY user_id, exp_group\n",
    "\"\"\""
   ]
  },
  {
   "cell_type": "code",
   "execution_count": 8,
   "id": "8f6c52f7-ed75-488a-b121-0ee2459626cd",
   "metadata": {},
   "outputs": [],
   "source": [
    "df_0_1 = pandahouse.read_clickhouse(q, connection=connection)"
   ]
  },
  {
   "cell_type": "code",
   "execution_count": 10,
   "id": "b1d66c3c-0827-4423-ad35-0a1eb8a17b62",
   "metadata": {},
   "outputs": [],
   "source": [
    "df_0_1['ctr'] = df_0_1.likes / df_0_1.views"
   ]
  },
  {
   "cell_type": "code",
   "execution_count": 11,
   "id": "7568ce63-95bd-44a5-a2ce-8c5e476a1c5f",
   "metadata": {},
   "outputs": [
    {
     "data": {
      "text/plain": [
       "0.21942631658330572"
      ]
     },
     "execution_count": 11,
     "metadata": {},
     "output_type": "execute_result"
    }
   ],
   "source": [
    "df_0_1['ctr'].mean()"
   ]
  },
  {
   "cell_type": "code",
   "execution_count": 16,
   "id": "fc6ee9b2-cbf6-4e54-a720-767d31a5441b",
   "metadata": {},
   "outputs": [],
   "source": [
    "q1 = \"\"\"\n",
    "SELECT user_id, exp_group, SUM(action = 'like') AS likes, SUM(action = 'view') AS views\n",
    "FROM {db}.feed_actions\n",
    "WHERE toDate(time) >= '2024-09-27' AND toDate(time) <= '2024-10-03' AND exp_group IN (0,3)\n",
    "GROUP BY user_id, exp_group\n",
    "\"\"\""
   ]
  },
  {
   "cell_type": "code",
   "execution_count": 17,
   "id": "3f6a5cd7-7644-4194-b8ac-b262a853f447",
   "metadata": {},
   "outputs": [],
   "source": [
    "df_0_3 = pandahouse.read_clickhouse(q1, connection=connection)"
   ]
  },
  {
   "cell_type": "code",
   "execution_count": 18,
   "id": "9b09c8fd-d995-448a-8e25-1a579924f4d6",
   "metadata": {},
   "outputs": [],
   "source": [
    "df_0_3['ctr'] = df_0_3.likes / df_0_3.views"
   ]
  },
  {
   "cell_type": "code",
   "execution_count": 19,
   "id": "a191195b-eef7-4a33-8555-831e62854a6d",
   "metadata": {},
   "outputs": [
    {
     "data": {
      "text/plain": [
       "Ttest_indResult(statistic=-13.935320516755848, pvalue=6.216047483055657e-44)"
      ]
     },
     "execution_count": 19,
     "metadata": {},
     "output_type": "execute_result"
    }
   ],
   "source": [
    "stats.ttest_ind(df_0_3[df_0_3.exp_group == 0].ctr, df_0_3[df_0_3.exp_group == 3].ctr, equal_var=False)"
   ]
  },
  {
   "cell_type": "code",
   "execution_count": 20,
   "id": "30ea49c1-74d6-4db0-8866-0506cc9f12da",
   "metadata": {},
   "outputs": [],
   "source": [
    "CTR_control = df_0_3[df_0_3.exp_group == 0].ctr.mean()"
   ]
  },
  {
   "cell_type": "code",
   "execution_count": 21,
   "id": "5231414f-2ffd-49b8-a9ba-7098f4ec4f9b",
   "metadata": {},
   "outputs": [],
   "source": [
    "df_0_3['lin_likes'] = df_0_3.likes - CTR_control * df_0_3.views"
   ]
  },
  {
   "cell_type": "code",
   "execution_count": 23,
   "id": "06f38521-e7cb-46a9-8b56-12e292024e1c",
   "metadata": {},
   "outputs": [
    {
     "data": {
      "text/plain": [
       "Ttest_indResult(statistic=-16.137763029444965, pvalue=3.242948328128896e-58)"
      ]
     },
     "execution_count": 23,
     "metadata": {},
     "output_type": "execute_result"
    }
   ],
   "source": [
    "stats.ttest_ind(df_0_3[df_0_3.exp_group == 0].lin_likes, df_0_3[df_0_3.exp_group == 3].lin_likes, equal_var=False)"
   ]
  },
  {
   "cell_type": "code",
   "execution_count": 24,
   "id": "934d61d3-658d-44a6-97df-b0ea62814840",
   "metadata": {},
   "outputs": [],
   "source": [
    "q2 = \"\"\"\n",
    "SELECT user_id, exp_group, SUM(action = 'like') AS likes, SUM(action = 'view') AS views\n",
    "FROM {db}.feed_actions\n",
    "WHERE toDate(time) >= '2024-09-27' AND toDate(time) <= '2024-10-03' AND exp_group IN (1,2)\n",
    "GROUP BY user_id, exp_group\n",
    "\"\"\""
   ]
  },
  {
   "cell_type": "code",
   "execution_count": 25,
   "id": "4639c563-eaf8-4205-8634-9581f3419ecf",
   "metadata": {},
   "outputs": [],
   "source": [
    "df_1_2 = pandahouse.read_clickhouse(q2, connection=connection)"
   ]
  },
  {
   "cell_type": "code",
   "execution_count": 26,
   "id": "3375112d-b7a2-4cac-bdcf-0b25e6211f35",
   "metadata": {},
   "outputs": [],
   "source": [
    "df_1_2['ctr'] = df_1_2.likes / df_1_2.views"
   ]
  },
  {
   "cell_type": "code",
   "execution_count": 27,
   "id": "9038f89f-e76e-4c8a-b7d4-a438206ee6d8",
   "metadata": {},
   "outputs": [
    {
     "data": {
      "text/plain": [
       "Ttest_indResult(statistic=0.405149191311259, pvalue=0.6853733311407633)"
      ]
     },
     "execution_count": 27,
     "metadata": {},
     "output_type": "execute_result"
    }
   ],
   "source": [
    "stats.ttest_ind(df_1_2[df_1_2.exp_group == 1].ctr, df_1_2[df_1_2.exp_group == 2].ctr, equal_var=False)"
   ]
  },
  {
   "cell_type": "code",
   "execution_count": 28,
   "id": "fccc2754-2ec9-42fa-9956-fdfe4b5d6415",
   "metadata": {},
   "outputs": [],
   "source": [
    "df_1_2['lin_likes'] = df_1_2.likes - CTR_control * df_1_2.views"
   ]
  },
  {
   "cell_type": "code",
   "execution_count": 29,
   "id": "4fa8b34d-f172-48d7-89dc-9126c9559e03",
   "metadata": {},
   "outputs": [
    {
     "data": {
      "text/plain": [
       "Ttest_indResult(statistic=5.877448545126082, pvalue=4.257657684372571e-09)"
      ]
     },
     "execution_count": 29,
     "metadata": {},
     "output_type": "execute_result"
    }
   ],
   "source": [
    "stats.ttest_ind(df_1_2[df_1_2.exp_group == 1].lin_likes, df_1_2[df_1_2.exp_group == 2].lin_likes, equal_var=False)"
   ]
  },
  {
   "cell_type": "code",
   "execution_count": null,
   "id": "6553c3f1-94d1-48e0-98da-69cf024eaeee",
   "metadata": {},
   "outputs": [],
   "source": []
  }
 ],
 "metadata": {
  "kernelspec": {
   "display_name": "Python 3 (ipykernel)",
   "language": "python",
   "name": "python3"
  },
  "language_info": {
   "codemirror_mode": {
    "name": "ipython",
    "version": 3
   },
   "file_extension": ".py",
   "mimetype": "text/x-python",
   "name": "python",
   "nbconvert_exporter": "python",
   "pygments_lexer": "ipython3",
   "version": "3.8.10"
  }
 },
 "nbformat": 4,
 "nbformat_minor": 5
}

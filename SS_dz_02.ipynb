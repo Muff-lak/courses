{
 "cells": [
  {
   "cell_type": "code",
   "execution_count": 1,
   "id": "8c555e3f-1895-49a1-9bb3-970945fc7162",
   "metadata": {},
   "outputs": [],
   "source": [
    "import pandahouse\n",
    "import pandas as pd\n",
    "import seaborn as sns\n",
    "import matplotlib.pyplot as plt\n",
    "import numpy as np\n",
    "import hashlib\n",
    "import swifter\n",
    "from scipy import stats\n",
    "from scipy.stats import norm, ttest_ind\n",
    "from tqdm import tqdm\n",
    "%matplotlib inline"
   ]
  },
  {
   "cell_type": "code",
   "execution_count": 2,
   "id": "a0ad0668-cb9b-45f3-9397-4a055dc07ca4",
   "metadata": {},
   "outputs": [],
   "source": [
    "connection = {'host': 'https://clickhouse.lab.karpov.courses',\n",
    "'database':'simulator_20241020',\n",
    "'user':'student',\n",
    "'password':'dpo_python_2020'\n",
    "}"
   ]
  },
  {
   "cell_type": "code",
   "execution_count": 18,
   "id": "d3c375bd-9a3c-461d-bf5b-70f7e72cf438",
   "metadata": {},
   "outputs": [],
   "source": [
    "q1 = \"\"\"\n",
    "select views, count() as users\n",
    "from (select  \n",
    "    user_id,\n",
    "    sum(action = 'view') as views\n",
    "from {db}.feed_actions\n",
    "where toDate(time) between '2024-09-20' and '2024-09-26'\n",
    "group by user_id\n",
    ")\n",
    "group by views\n",
    "order by views\n",
    "\"\"\""
   ]
  },
  {
   "cell_type": "code",
   "execution_count": 19,
   "id": "4d6f2236-967c-4267-a74d-ff19c8b97dda",
   "metadata": {},
   "outputs": [],
   "source": [
    "views = pandahouse.read_clickhouse(q1, connection=connection)"
   ]
  },
  {
   "cell_type": "code",
   "execution_count": 20,
   "id": "317ab270-1c56-4b3f-a49e-74883ca2b7e4",
   "metadata": {},
   "outputs": [],
   "source": [
    "views['p'] = views['users']/views.users.sum()"
   ]
  },
  {
   "cell_type": "code",
   "execution_count": 27,
   "id": "72357156-b60e-4845-a73b-7b2f40c2516d",
   "metadata": {},
   "outputs": [],
   "source": [
    "q2 = \"\"\"\n",
    "select \n",
    "   ctr, count() as users\n",
    "from (select toDate(time) as dt, \n",
    "    user_id,\n",
    "    sum(action = 'like')/sum(action = 'view') as ctr\n",
    "from {db}.feed_actions\n",
    "where dt between '2024-09-20' and '2024-09-26'\n",
    "group by dt, user_id\n",
    ")\n",
    "group by ctr\n",
    "\"\"\""
   ]
  },
  {
   "cell_type": "code",
   "execution_count": 28,
   "id": "6c9d89c4-1419-4df1-85c2-60af0cfaabd8",
   "metadata": {},
   "outputs": [],
   "source": [
    "ctr = pandahouse.read_clickhouse(q2, connection=connection)"
   ]
  },
  {
   "cell_type": "code",
   "execution_count": 29,
   "id": "3cb16191-6a05-4acd-b5ae-77f3d4dda7a0",
   "metadata": {},
   "outputs": [],
   "source": [
    "ctr['p'] = ctr['users']/ctr.users.sum()"
   ]
  },
  {
   "cell_type": "code",
   "execution_count": 30,
   "id": "680b8368-1ce2-4800-b02c-9202359a7c73",
   "metadata": {},
   "outputs": [],
   "source": [
    "rng = np.random.default_rng()"
   ]
  },
  {
   "cell_type": "code",
   "execution_count": 42,
   "id": "b8e0b590-dd0e-472e-a0a9-5db78a5f2954",
   "metadata": {},
   "outputs": [],
   "source": [
    "q3 = \"\"\"\n",
    "select views, count() as users\n",
    "from (select  \n",
    "    user_id,\n",
    "    sum(action = 'view') as views\n",
    "from {db}.feed_actions\n",
    "where toDate(time) between '2024-09-27' and '2024-10-03'\n",
    "group by user_id\n",
    ")\n",
    "group by views\n",
    "\"\"\""
   ]
  },
  {
   "cell_type": "code",
   "execution_count": 57,
   "id": "c615ee55-c1fe-4d78-9f1a-b491fe1f73a5",
   "metadata": {},
   "outputs": [],
   "source": [
    "view_I = pandahouse.read_clickhouse(q3, connection=connection)"
   ]
  },
  {
   "cell_type": "code",
   "execution_count": 59,
   "id": "a379b14e-1ae6-45e8-8163-aa755c722339",
   "metadata": {},
   "outputs": [
    {
     "data": {
      "text/plain": [
       "49814"
      ]
     },
     "execution_count": 59,
     "metadata": {},
     "output_type": "execute_result"
    }
   ],
   "source": [
    "view_I.users.sum()"
   ]
  },
  {
   "cell_type": "code",
   "execution_count": 55,
   "id": "38d35189-96a7-4be8-9864-2fba839e34fd",
   "metadata": {},
   "outputs": [
    {
     "data": {
      "text/plain": [
       "49814"
      ]
     },
     "execution_count": 55,
     "metadata": {},
     "output_type": "execute_result"
    }
   ],
   "source": [
    "view_II.users.sum()"
   ]
  },
  {
   "cell_type": "code",
   "execution_count": 53,
   "id": "6b05accd-7ac1-4634-b1ac-507ee38965db",
   "metadata": {},
   "outputs": [],
   "source": [
    "q4 = \"\"\"\n",
    "select views, count(distinct user_id) as users\n",
    "from (select  \n",
    "    user_id,\n",
    "    sum(action = 'view') as views\n",
    "from {db}.feed_actions\n",
    "where toDate(time) between '2024-09-20' and '2024-10-03'\n",
    "group by user_id\n",
    ")\n",
    "group by views\n",
    "\"\"\""
   ]
  },
  {
   "cell_type": "code",
   "execution_count": 54,
   "id": "2a6cdc78-cddc-4c67-998c-d127fb47775f",
   "metadata": {},
   "outputs": [],
   "source": [
    "view_II = pandahouse.read_clickhouse(q3, connection=connection)"
   ]
  },
  {
   "cell_type": "code",
   "execution_count": null,
   "id": "ae43596e-8b3b-4a35-9365-19a78b8c9f5b",
   "metadata": {},
   "outputs": [],
   "source": []
  },
  {
   "cell_type": "code",
   "execution_count": null,
   "id": "c682e1ce-a620-4fab-9f54-cb24cd024e24",
   "metadata": {},
   "outputs": [],
   "source": []
  },
  {
   "cell_type": "code",
   "execution_count": 48,
   "id": "c566455f-8f3d-417e-b3f2-a13ff2dc4c89",
   "metadata": {},
   "outputs": [
    {
     "name": "stderr",
     "output_type": "stream",
     "text": [
      "100%|██████████| 20000/20000 [07:40<00:00, 43.45it/s]\n"
     ]
    }
   ],
   "source": [
    "b = []\n",
    "n = 30591\n",
    "for _ in tqdm(range(20000)):\n",
    "    views1 = rng.choice(views.views, size = n, replace = True, p = views.p).astype('int64')\n",
    "    views1 = ((1 + rng.binomial(1, 0.5, n)) * rng.binomial(1, 0.9, size = n)) * (views1 >= 30) + views1\n",
    "    views2 = rng.choice(views.views, size = n, replace = True, p = views.p).astype('int64')\n",
    "    ctr1 = rng.choice(ctr.ctr, size = n, p = ctr.p, replace = True)\n",
    "    ctr2 = rng.choice(ctr.ctr, size = n, p = ctr.p, replace = True)\n",
    "    likes1 = rng.binomial(views1, ctr1)\n",
    "    likes2 = rng.binomial(views2, ctr2)\n",
    "    b.append((stats.ttest_ind(likes1, likes2, equal_var = False).pvalue < 0.05))"
   ]
  },
  {
   "cell_type": "code",
   "execution_count": 49,
   "id": "6c206c34-8424-4ee8-a481-db8d46fda790",
   "metadata": {},
   "outputs": [
    {
     "data": {
      "text/plain": [
       "56.93"
      ]
     },
     "execution_count": 49,
     "metadata": {},
     "output_type": "execute_result"
    }
   ],
   "source": [
    "q = 0\n",
    "for i in range(len(b)):\n",
    "    if b[i] == True:\n",
    "        q += 1\n",
    "q / 20000 * 100"
   ]
  },
  {
   "cell_type": "code",
   "execution_count": null,
   "id": "3150a1b0-f903-4531-8905-b330651677a9",
   "metadata": {},
   "outputs": [],
   "source": [
    "#(здесь мы симулируем данные просмотров, CTR и лайков)\n",
    "\n",
    "#mask_A = group_A_views >= 30\n",
    "#mask_B = group_B_views >= 30\n",
    "\n",
    "#scipy.stats.ttest_ind(group_A_likes[mask_A], group_B_likes[mask_B], equal_var=False)"
   ]
  },
  {
   "cell_type": "code",
   "execution_count": 61,
   "id": "d3069df4-b73e-4f6e-ab7d-2291657a8d63",
   "metadata": {},
   "outputs": [
    {
     "name": "stderr",
     "output_type": "stream",
     "text": [
      "100%|██████████| 20000/20000 [07:50<00:00, 42.52it/s]\n"
     ]
    }
   ],
   "source": [
    "l = []\n",
    "n = 30591\n",
    "for _ in tqdm(range(20000)):\n",
    "    views1 = rng.choice(views.views, size = n, replace = True, p = views.p).astype('int64')\n",
    "    views1 = ((1 + rng.binomial(1, 0.5, n)) * rng.binomial(1, 0.9, size = n)) * (views1 >= 30) + views1\n",
    "    views2 = rng.choice(views.views, size = n, replace = True, p = views.p).astype('int64')\n",
    "    ctr1 = rng.choice(ctr.ctr, size = n, p = ctr.p, replace = True)\n",
    "    ctr2 = rng.choice(ctr.ctr, size = n, p = ctr.p, replace = True)\n",
    "    likes1 = rng.binomial(views1, ctr1)\n",
    "    likes2 = rng.binomial(views2, ctr2)\n",
    "    l.append((stats.ttest_ind(likes1[views1 >= 30], likes2[views2 >= 30], equal_var = False).pvalue < 0.05))"
   ]
  },
  {
   "cell_type": "code",
   "execution_count": 62,
   "id": "2fbe9aff-67ae-4a7a-98ca-505662f511eb",
   "metadata": {},
   "outputs": [
    {
     "data": {
      "text/plain": [
       "65.10000000000001"
      ]
     },
     "execution_count": 62,
     "metadata": {},
     "output_type": "execute_result"
    }
   ],
   "source": [
    "q = 0\n",
    "for i in range(len(l)):\n",
    "    if l[i] == True:\n",
    "        q += 1\n",
    "q / 20000 * 100"
   ]
  },
  {
   "cell_type": "code",
   "execution_count": 65,
   "id": "3170bedd-86a3-41e6-b86f-8349a4c3a007",
   "metadata": {},
   "outputs": [],
   "source": [
    "q5 = \"\"\"\n",
    "SELECT uniq(user_id)\n",
    "FROM {db}.feed_actions\n",
    "where toDate(time) between '2024-09-20' and '2024-10-03'\n",
    "\"\"\""
   ]
  },
  {
   "cell_type": "code",
   "execution_count": 66,
   "id": "1cf75b9b-9794-4c96-a503-37214c3b017c",
   "metadata": {},
   "outputs": [],
   "source": [
    "how = pandahouse.read_clickhouse(q5, connection=connection)"
   ]
  },
  {
   "cell_type": "code",
   "execution_count": 68,
   "id": "74538d5a-40dc-4c68-8c08-966b51b9103f",
   "metadata": {},
   "outputs": [
    {
     "data": {
      "text/html": [
       "<div>\n",
       "<style scoped>\n",
       "    .dataframe tbody tr th:only-of-type {\n",
       "        vertical-align: middle;\n",
       "    }\n",
       "\n",
       "    .dataframe tbody tr th {\n",
       "        vertical-align: top;\n",
       "    }\n",
       "\n",
       "    .dataframe thead th {\n",
       "        text-align: right;\n",
       "    }\n",
       "</style>\n",
       "<table border=\"1\" class=\"dataframe\">\n",
       "  <thead>\n",
       "    <tr style=\"text-align: right;\">\n",
       "      <th></th>\n",
       "      <th>uniq(user_id)</th>\n",
       "    </tr>\n",
       "  </thead>\n",
       "  <tbody>\n",
       "    <tr>\n",
       "      <th>0</th>\n",
       "      <td>30590.5</td>\n",
       "    </tr>\n",
       "  </tbody>\n",
       "</table>\n",
       "</div>"
      ],
      "text/plain": [
       "   uniq(user_id)\n",
       "0        30590.5"
      ]
     },
     "execution_count": 68,
     "metadata": {},
     "output_type": "execute_result"
    }
   ],
   "source": [
    "how/2"
   ]
  },
  {
   "cell_type": "code",
   "execution_count": null,
   "id": "14e85e80-8c12-40ea-aafe-04202a75374f",
   "metadata": {},
   "outputs": [],
   "source": []
  }
 ],
 "metadata": {
  "kernelspec": {
   "display_name": "Python 3 (ipykernel)",
   "language": "python",
   "name": "python3"
  },
  "language_info": {
   "codemirror_mode": {
    "name": "ipython",
    "version": 3
   },
   "file_extension": ".py",
   "mimetype": "text/x-python",
   "name": "python",
   "nbconvert_exporter": "python",
   "pygments_lexer": "ipython3",
   "version": "3.8.10"
  }
 },
 "nbformat": 4,
 "nbformat_minor": 5
}

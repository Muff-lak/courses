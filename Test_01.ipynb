{
 "cells": [
  {
   "cell_type": "code",
   "execution_count": 23,
   "id": "5ca0a5e8-c381-45f0-9849-577e21e4fa01",
   "metadata": {},
   "outputs": [],
   "source": [
    "from datetime import datetime, timedelta\n",
    "import pandas as pd\n",
    "from io import StringIO\n",
    "import requests\n",
    "import pandahouse\n",
    "\n",
    "\n",
    "connection = {'host': 'https://clickhouse.lab.karpov.courses',\n",
    "'database':'simulator_20241020',\n",
    "'user':'student',\n",
    "'password':'dpo_python_2020'\n",
    "}\n",
    "default_args = {\n",
    "    'owner': 'n.shulmina',\n",
    "    'depends_on_past': False,\n",
    "    'retries': 2,\n",
    "    'retry_delay': timedelta(minutes=5),\n",
    "    'start_date': '2024-11-14',\n",
    "}\n",
    "\n",
    "schedule_interval = '0 23 * * *'\n",
    "connection_test = {'host': 'https://clickhouse.lab.karpov.courses',\n",
    "                      'database':'test',\n",
    "                      'user':'student-rw', \n",
    "                      'password':'656e2b0c9c'\n",
    "                     }\n"
   ]
  },
  {
   "cell_type": "code",
   "execution_count": 24,
   "id": "8a6ebd6e-24d1-4766-9e45-46016b0b42ad",
   "metadata": {},
   "outputs": [],
   "source": [
    "def exctract_table_1():\n",
    "    q1 = \"\"\"\n",
    "    SELECT toDate(time) AS date,\n",
    "        user_id, \n",
    "        countIf(action = 'view') AS views, \n",
    "        countIf(action = 'like') AS likes,\n",
    "        If(gender == 0, 'female', 'male') as gender,\n",
    "        multiIf(age <= 17, 'до 18', age > 17\n",
    "                                        and age <= 30, '18-30', age > 30\n",
    "                                        and age <= 50, '31-50', '50+') as age,\n",
    "        os\n",
    "    FROM simulator_20241020.feed_actions\n",
    "    WHERE date = today() - 1\n",
    "    GROUP BY user_id, date, gender, age, os\n",
    "    \"\"\"\n",
    "    df1 = pandahouse.read_clickhouse(q1, connection=connection)\n",
    "    return df1\n",
    "        "
   ]
  },
  {
   "cell_type": "code",
   "execution_count": 25,
   "id": "49b59813-f0a5-4351-a864-0e924c0c66e6",
   "metadata": {},
   "outputs": [],
   "source": [
    "def exctract_table_2():\n",
    "        q2 = \"\"\"\n",
    "        SELECT date,\n",
    "                user_id,\n",
    "                sent_messages,\n",
    "                sent_users,\n",
    "                resevied_messages,\n",
    "                received_users\n",
    "        FROM\n",
    "        (SELECT toDate(time) AS date,\n",
    "                user_id,\n",
    "                count() AS sent_messages,\n",
    "                count(DISTINCT receiver_id) AS sent_users\n",
    "        FROM simulator_20241020.message_actions\n",
    "        WHERE date = today() - 1\n",
    "        GROUP BY date, user_id) t1\n",
    "\n",
    "        LEFT JOIN\n",
    "\n",
    "        (SELECT toDate(time) AS date,\n",
    "                receiver_id,\n",
    "                count() AS resevied_messages,\n",
    "                uniqExact(user_id) AS received_users\n",
    "        FROM simulator_20241020.message_actions\n",
    "        WHERE date = today() - 1\n",
    "        GROUP BY date, receiver_id) t2\n",
    "        ON t1.user_id = t2.receiver_id\n",
    "        \"\"\"\n",
    "        df2 = pandahouse.read_clickhouse(q2, connection=connection)\n",
    "        return df2"
   ]
  },
  {
   "cell_type": "code",
   "execution_count": 26,
   "id": "39f20423-0c4e-4418-bda0-e6ca9f3cd229",
   "metadata": {},
   "outputs": [],
   "source": [
    "def merge_df(df1, df2):\n",
    "        df = pd.merge(df1, df2, on = ['user_id', 'date'], how = 'outer')\n",
    "        return df"
   ]
  },
  {
   "cell_type": "code",
   "execution_count": 27,
   "id": "efc2528c-7029-4e6e-a5fe-d74b1022d249",
   "metadata": {},
   "outputs": [],
   "source": [
    "def gender(df):\n",
    "        gender_df = df.groupby('gender', as_index = False) \\\n",
    "                    .agg({'date':'min', 'views':'sum', 'likes':'sum', 'sent_messages':'sum', \\\n",
    "                              'sent_users':'sum', 'resevied_messages':'sum', 'received_users':'sum'})\\\n",
    "                    .reset_index().copy()\n",
    "        gender_df['metric'] = 'gender'\n",
    "        gender_df.rename(columns={'gender':'value_of_metric'}, inplace = True)\n",
    "        return gender_df"
   ]
  },
  {
   "cell_type": "code",
   "execution_count": 28,
   "id": "879be56e-24d9-4874-b6cb-bd984d1c439d",
   "metadata": {},
   "outputs": [],
   "source": [
    "def os(df):\n",
    "        os_df = df.groupby('os', as_index=False) \\\n",
    "                .agg({'date':'min', 'views':'sum', 'likes':'sum', 'sent_messages':'sum', \\\n",
    "                              'sent_users':'sum', 'resevied_messages':'sum', 'received_users':'sum'})\\\n",
    "                    .reset_index().copy()\n",
    "        os_df['metric'] = 'os'\n",
    "        os_df.rename(columns = {'os':'value_of_metric'}, inplace = True)\n",
    "        return os_df"
   ]
  },
  {
   "cell_type": "code",
   "execution_count": 35,
   "id": "8fe84e48-9e35-47d0-b248-f23ef8db2e6b",
   "metadata": {},
   "outputs": [],
   "source": [
    "def age(df):\n",
    "        age_df = df.groupby('age', as_index=False) \\\n",
    "                .agg({'date':'min', 'views':'sum', 'likes':'sum', 'sent_messages':'sum', \\\n",
    "                              'sent_users':'sum', 'resevied_messages':'sum', 'received_users':'sum'})\\\n",
    "                    .reset_index().copy()\n",
    "        age_df['metric'] = 'age'\n",
    "        age_df.rename(columns = {'age':'value_of_metric'}, inplace = True)\n",
    "        return age_df"
   ]
  },
  {
   "cell_type": "code",
   "execution_count": 36,
   "id": "e334273e-bc39-4b98-8005-3862cbb3a50d",
   "metadata": {},
   "outputs": [],
   "source": [
    "def concat_table(gender_df, os_df, age_df):\n",
    "        concat_df = pd.concat([gender_df, os_df, age_df])\n",
    "        full_df = concat_df.rename(columns={'date':'event_date', 'metric':'dimension', 'value_of_metric':'dimension_value', 'resevied_messages':'messages_received', 'sent_messages':'messages_sent', \\\n",
    "                                    'received_users':'users_received', 'sent_users':'users_sent'})\n",
    "        full_df = full_df.reset_index().drop('index', axis=1)\n",
    "        full_df = full_df[['event_date', 'dimension', 'dimension_value', 'views', 'likes', 'messages_received', 'messages_sent', 'users_received', 'users_sent']]\n",
    "        full_df = full_df.astype({\n",
    "            'dimension': 'str', \\\n",
    "            'dimension_value': 'str', \\\n",
    "            'views': 'int', \\\n",
    "            'likes': 'int', \\\n",
    "            'messages_received': 'int', \\\n",
    "            'messages_sent': 'int', \\\n",
    "            'users_received': 'int', \\\n",
    "            'users_sent': 'int'})\n",
    "        return full_df"
   ]
  },
  {
   "cell_type": "code",
   "execution_count": 37,
   "id": "55d6a820-4598-40f1-8f82-97f765c8389f",
   "metadata": {},
   "outputs": [],
   "source": [
    "def load_df(full_df):\n",
    "        q3 = \"\"\"\n",
    "            CREATE TABLE IF NOT EXISTS test.nshulmina_1\n",
    "            (   event_date Date,\n",
    "                dimension String,\n",
    "                dimension_value String,\n",
    "                views UInt64,\n",
    "                likes UInt64,\n",
    "                messages_received UInt64,\n",
    "                messages_sent UInt64,\n",
    "                users_received UInt64,\n",
    "                users_sent UInt64\n",
    "                ) ENGINE = Log()\"\"\"\n",
    "        pandahouse.execute(connection=connection_test, query=q3)\n",
    "        pandahouse.to_clickhouse(df=full_df, table='nshulmina_1', index=False, connection=connection_test)"
   ]
  },
  {
   "cell_type": "code",
   "execution_count": 38,
   "id": "5e37a34f-4eab-4680-b7c8-3c07f72ffbeb",
   "metadata": {},
   "outputs": [],
   "source": [
    "df1 = exctract_table_1()\n",
    "df2 = exctract_table_2()\n",
    "df = merge_df(df1, df2)\n",
    "gender_df = gender(df)\n",
    "age_df = age(df)\n",
    "os_df = os(df)\n",
    "full_df = concat_table(gender_df, os_df, age_df)\n",
    "load_df(full_df)"
   ]
  },
  {
   "cell_type": "code",
   "execution_count": 43,
   "id": "035bfb74-d49b-44c4-a9f4-dbeae5ffe6af",
   "metadata": {},
   "outputs": [],
   "source": [
    "load_df(full_df)"
   ]
  },
  {
   "cell_type": "code",
   "execution_count": null,
   "id": "c0736703-f78a-458a-aef7-45eaff11fb7e",
   "metadata": {},
   "outputs": [],
   "source": []
  }
 ],
 "metadata": {
  "kernelspec": {
   "display_name": "Python 3 (ipykernel)",
   "language": "python",
   "name": "python3"
  },
  "language_info": {
   "codemirror_mode": {
    "name": "ipython",
    "version": 3
   },
   "file_extension": ".py",
   "mimetype": "text/x-python",
   "name": "python",
   "nbconvert_exporter": "python",
   "pygments_lexer": "ipython3",
   "version": "3.8.10"
  }
 },
 "nbformat": 4,
 "nbformat_minor": 5
}

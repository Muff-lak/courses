{
 "cells": [
  {
   "cell_type": "code",
   "execution_count": 1,
   "id": "36962024-7d0f-4a36-a312-84d8b0cd97a3",
   "metadata": {},
   "outputs": [],
   "source": [
    "import pandas as pd\n",
    "import pandahouse\n",
    "import seaborn as sns\n",
    "import matplotlib.pyplot as plt\n",
    "import numpy as np\n",
    "import hashlib\n",
    "import swifter\n",
    "from scipy import stats\n",
    "%matplotlib inline"
   ]
  },
  {
   "cell_type": "code",
   "execution_count": 2,
   "id": "723b9995-bdc1-472a-b396-af924f5b367a",
   "metadata": {},
   "outputs": [],
   "source": [
    "connection = {'host': 'https://clickhouse.lab.karpov.courses',\n",
    "'database':'simulator_20241020',\n",
    "'user':'student',\n",
    "'password':'dpo_python_2020'\n",
    "}"
   ]
  },
  {
   "cell_type": "code",
   "execution_count": 17,
   "id": "b025c1af-31a3-4911-85f9-d94d0c12cc8f",
   "metadata": {},
   "outputs": [],
   "source": [
    "q = \"\"\"\n",
    "SELECT user_id, exp_group, SUM(action = 'like') AS likes, SUM(action = 'view') AS views, likes/views as ctr\n",
    "FROM {db}.feed_actions\n",
    "WHERE toDate(time) >= '2024-09-27' AND toDate(time) <= '2024-10-03' AND exp_group BETWEEN 1 AND 2\n",
    "GROUP BY user_id, exp_group\n",
    "\"\"\""
   ]
  },
  {
   "cell_type": "code",
   "execution_count": 18,
   "id": "96e3a5e5-66b0-46b3-a0b5-c545c1c3ec1d",
   "metadata": {},
   "outputs": [],
   "source": [
    "df = pandahouse.read_clickhouse(q, connection=connection)"
   ]
  },
  {
   "cell_type": "code",
   "execution_count": 19,
   "id": "a012dae9-f620-4e6c-9cba-0b19c742a119",
   "metadata": {},
   "outputs": [
    {
     "data": {
      "text/plain": [
       "<Axes: xlabel='ctr', ylabel='Count'>"
      ]
     },
     "execution_count": 19,
     "metadata": {},
     "output_type": "execute_result"
    },
    {
     "data": {
      "image/png": "[encoded data removed]",
      "text/plain": [
       "<Figure size 432x288 with 1 Axes>"
      ]
     },
     "metadata": {
      "needs_background": "light"
     },
     "output_type": "display_data"
    }
   ],
   "source": [
    "sns.histplot(df, x = df.ctr, hue = df.exp_group, palette=['b', 'r'])"
   ]
  },
  {
   "cell_type": "markdown",
   "id": "f9ee818b-dbae-4322-a5bc-d6d9c946d1e0",
   "metadata": {},
   "source": [
    "Визуально два распределения очень различаются."
   ]
  },
  {
   "cell_type": "markdown",
   "id": "3ceb0c1f-b9f6-40de-b356-3e0cfef30ad1",
   "metadata": {},
   "source": [
    "1. t-test"
   ]
  },
  {
   "cell_type": "code",
   "execution_count": 20,
   "id": "f9172b07-a8ac-4e1f-9edd-4d72c0013c25",
   "metadata": {},
   "outputs": [],
   "source": [
    "ttest = stats.ttest_ind(df[df['exp_group'] == 1]['ctr'], df[df['exp_group'] == 2]['ctr'], equal_var=False)"
   ]
  },
  {
   "cell_type": "code",
   "execution_count": 21,
   "id": "74e1ccf0-95b9-46f2-ba9b-cbfdffffaa75",
   "metadata": {},
   "outputs": [
    {
     "data": {
      "text/plain": [
       "Ttest_indResult(statistic=0.4051491913112757, pvalue=0.685373331140751)"
      ]
     },
     "execution_count": 21,
     "metadata": {},
     "output_type": "execute_result"
    }
   ],
   "source": [
    "ttest"
   ]
  },
  {
   "cell_type": "markdown",
   "id": "5a95c0c7-bede-4bba-9bc2-615cb41af05b",
   "metadata": {},
   "source": [
    "Тест Стьюдента показывает, что разница между средними CTR двух групп различаются статистически незначимо."
   ]
  },
  {
   "cell_type": "markdown",
   "id": "5d8b4c00-7d1f-41cb-84c4-1c6d3397dbb1",
   "metadata": {},
   "source": [
    "Тест Манна-Уитни"
   ]
  },
  {
   "cell_type": "code",
   "execution_count": 22,
   "id": "6b586465-cb89-452a-b2a2-b49df02e07a3",
   "metadata": {},
   "outputs": [
    {
     "data": {
      "text/plain": [
       "MannwhitneyuResult(statistic=55189913.0, pvalue=4.632205841806026e-45)"
      ]
     },
     "execution_count": 22,
     "metadata": {},
     "output_type": "execute_result"
    }
   ],
   "source": [
    "stats.mannwhitneyu(df[df['exp_group'] == 1]['ctr'], df[df['exp_group'] == 2]['ctr'], alternative = 'two-sided')"
   ]
  },
  {
   "cell_type": "markdown",
   "id": "1152ef36-794e-41f9-8d7a-717492ba9a09",
   "metadata": {},
   "source": [
    "Тест Манна-Утни увидел разницу между распределениями CTR в двух группах.\n",
    "Тест Стьюдента сработал некорректно в данном случае, так как одним из желательных условий его применения является нормальность данных (унимодальное распределение). Распределение в группе 2 значительно отличается от нормального (бимодальное). Использование же теста Манна-Уитни не привязывается к типу распределения, и его чувствительность в данном случае выше."
   ]
  },
  {
   "cell_type": "markdown",
   "id": "c1d90127-b819-43a4-bd1c-809b265d82a6",
   "metadata": {},
   "source": [
    "Сглаженный CTR"
   ]
  },
  {
   "cell_type": "code",
   "execution_count": 25,
   "id": "1735591c-0d5f-4fa4-9da3-786299d899e0",
   "metadata": {},
   "outputs": [],
   "source": [
    "def get_smothed_ctr(likes, views, g_ctr, alpha):\n",
    "    smothed_ctr = (likes + alpha * g_ctr) / (views + alpha)\n",
    "    return smothed_ctr"
   ]
  },
  {
   "cell_type": "code",
   "execution_count": 27,
   "id": "108c0fb1-d49e-4d77-9bcb-937feb150551",
   "metadata": {},
   "outputs": [],
   "source": [
    "g_ctr_1 = df[df['exp_group'] == 1].likes.sum() / df[df['exp_group'] == 1].views.sum()\n",
    "g_ctr_2 = df[df['exp_group'] == 2].likes.sum() / df[df['exp_group'] == 2].views.sum()"
   ]
  },
  {
   "cell_type": "code",
   "execution_count": 29,
   "id": "9bbe11bc-99fc-4388-96f6-7ffb66c170b3",
   "metadata": {},
   "outputs": [],
   "source": [
    "gr_1 = df[df.exp_group == 1].copy()\n",
    "gr_2 = df[df.exp_group == 2].copy()"
   ]
  },
  {
   "cell_type": "code",
   "execution_count": 32,
   "id": "bbdcac55-f916-4002-adbb-5f91b6d543d0",
   "metadata": {},
   "outputs": [],
   "source": [
    "gr_1['sm_ctr'] = df.apply(lambda x: get_smothed_ctr(x.likes, x.views, g_ctr_1, 5), axis = 1)"
   ]
  },
  {
   "cell_type": "code",
   "execution_count": 35,
   "id": "5c8b72b0-1c2c-4f7b-9bc3-4916133c3fe9",
   "metadata": {},
   "outputs": [
    {
     "data": {
      "text/plain": [
       "<seaborn.axisgrid.FacetGrid at 0x7f30f9d58370>"
      ]
     },
     "execution_count": 35,
     "metadata": {},
     "output_type": "execute_result"
    },
    {
     "data": {
      "image/png": "[encoded data removed]",
      "text/plain": [
       "<Figure size 360x360 with 1 Axes>"
      ]
     },
     "metadata": {
      "needs_background": "light"
     },
     "output_type": "display_data"
    }
   ],
   "source": [
    "sns.displot(gr_1.sm_ctr)"
   ]
  },
  {
   "cell_type": "code",
   "execution_count": 36,
   "id": "264eec74-5e01-46b1-a703-049719a47a16",
   "metadata": {},
   "outputs": [],
   "source": [
    "gr_2['sm_ctr'] = df.apply(lambda x: get_smothed_ctr(x.likes, x.views, g_ctr_2, 5), axis = 1)"
   ]
  },
  {
   "cell_type": "code",
   "execution_count": 37,
   "id": "88786aab-22fc-407b-88d8-232330f2f8d4",
   "metadata": {},
   "outputs": [
    {
     "data": {
      "text/plain": [
       "<seaborn.axisgrid.FacetGrid at 0x7f30f9d58be0>"
      ]
     },
     "execution_count": 37,
     "metadata": {},
     "output_type": "execute_result"
    },
    {
     "data": {
      "image/png": "[encoded data removed]",
      "text/plain": [
       "<Figure size 360x360 with 1 Axes>"
      ]
     },
     "metadata": {
      "needs_background": "light"
     },
     "output_type": "display_data"
    }
   ],
   "source": [
    "sns.displot(gr_2.sm_ctr)"
   ]
  },
  {
   "cell_type": "code",
   "execution_count": 38,
   "id": "7ba9f1f0-5e55-495b-8e27-f5e3ff5d4c8c",
   "metadata": {},
   "outputs": [
    {
     "data": {
      "text/plain": [
       "MannwhitneyuResult(statistic=55528353.0, pvalue=2.396534039374286e-50)"
      ]
     },
     "execution_count": 38,
     "metadata": {},
     "output_type": "execute_result"
    }
   ],
   "source": [
    "stats.mannwhitneyu(gr_1['sm_ctr'], gr_2['sm_ctr'], alternative = 'two-sided')"
   ]
  },
  {
   "cell_type": "markdown",
   "id": "b85f3626-3be8-488b-82ea-8a1e2e00a1e0",
   "metadata": {},
   "source": [
    "Тест Манна-Уитни снова также увидел разницу в распределениях."
   ]
  },
  {
   "cell_type": "markdown",
   "id": "11a83f73-c4f2-403d-bce6-9471c82d841d",
   "metadata": {},
   "source": [
    "Bootstrap"
   ]
  },
  {
   "cell_type": "code",
   "execution_count": 39,
   "id": "7ba27f48-a168-4cf9-b41e-de7e1f6cf40e",
   "metadata": {},
   "outputs": [],
   "source": [
    "def bootstrap(likes1, views1, likes2, views2, n_bootstrap=2000):\n",
    "\n",
    "    poisson_bootstraps1 = stats.poisson(1).rvs(\n",
    "        (n_bootstrap, len(likes1))).astype(np.int64)\n",
    "\n",
    "    poisson_bootstraps2 = stats.poisson(1).rvs(\n",
    "            (n_bootstrap, len(likes2))).astype(np.int64)\n",
    "    \n",
    "    globalCTR1 = (poisson_bootstraps1*likes1).sum(axis=1)/(poisson_bootstraps1*views1).sum(axis=1)\n",
    "    \n",
    "    globalCTR2 = (poisson_bootstraps2*likes2).sum(axis=1)/(poisson_bootstraps2*views2).sum(axis=1)\n",
    "\n",
    "    return globalCTR1, globalCTR2"
   ]
  },
  {
   "cell_type": "code",
   "execution_count": 40,
   "id": "da39bfed-2475-4398-9f5b-e33fb03a5ea4",
   "metadata": {},
   "outputs": [],
   "source": [
    "likes1 = df[df.exp_group == 1].likes.to_numpy()\n",
    "likes2 = df[df.exp_group == 2].likes.to_numpy()\n",
    "views1 = df[df.exp_group == 1].views.to_numpy()\n",
    "views2 = df[df.exp_group == 2].views.to_numpy()"
   ]
  },
  {
   "cell_type": "code",
   "execution_count": 41,
   "id": "c84320b8-3f61-4daf-b1e0-e320bb8aba10",
   "metadata": {},
   "outputs": [],
   "source": [
    "ctr_1, ctr_2 = bootstrap(likes1, views1, likes2, views2)"
   ]
  },
  {
   "cell_type": "code",
   "execution_count": 42,
   "id": "4188f693-d322-45d6-837c-06fc96fd09a3",
   "metadata": {},
   "outputs": [
    {
     "data": {
      "text/plain": [
       "<Axes: ylabel='Count'>"
      ]
     },
     "execution_count": 42,
     "metadata": {},
     "output_type": "execute_result"
    },
    {
     "data": {
      "image/png": "[encoded data removed]",
      "text/plain": [
       "<Figure size 432x288 with 1 Axes>"
      ]
     },
     "metadata": {
      "needs_background": "light"
     },
     "output_type": "display_data"
    }
   ],
   "source": [
    "sns.histplot(ctr_1)\n",
    "sns.histplot(ctr_2)"
   ]
  },
  {
   "cell_type": "markdown",
   "id": "7eda27ff-3f52-4ef7-94ef-bc21dda6f389",
   "metadata": {},
   "source": [
    "Данный метод показал статистичеки значимую разницу между CTR двух групп."
   ]
  },
  {
   "cell_type": "markdown",
   "id": "97c1f0c5-ea1d-4862-899b-5848ee942e58",
   "metadata": {},
   "source": [
    "Ситуация, когда появляется две моды в группе 2, может быть связана с неоднозначным эффектом вводимого изменения на две разные группы пользователей, например, мужчин и женщин или пользователей iOS и Android (может быть какой-то баг) и т.д."
   ]
  },
  {
   "cell_type": "markdown",
   "id": "b0db4cbf-33cd-47cd-b320-f9ddcc65584e",
   "metadata": {},
   "source": [
    "Новый алгоритм все же не стоит раскатывать на всех пользователей, так как он оказал в большинстве своем отрицательный эффект (падение CTR где-то на 5 %) на довольно таки большую группу пользователей, несмотря на некоторое значительное улучшение для другой части пользователей второй группы. Результаты bootstrap подтверждают предположение, что суммарный эффект изменения алкогоритма все-таки отрицательный."
   ]
  },
  {
   "cell_type": "code",
   "execution_count": 44,
   "id": "661f994a-74a9-4a4f-bf84-caa87f973816",
   "metadata": {},
   "outputs": [
    {
     "data": {
      "text/plain": [
       "<Axes: ylabel='Count'>"
      ]
     },
     "execution_count": 44,
     "metadata": {},
     "output_type": "execute_result"
    },
    {
     "data": {
      "image/png": "[encoded data removed]",
      "text/plain": [
       "<Figure size 432x288 with 1 Axes>"
      ]
     },
     "metadata": {
      "needs_background": "light"
     },
     "output_type": "display_data"
    }
   ],
   "source": [
    "sns.histplot(ctr_2 - ctr_1)"
   ]
  },
  {
   "cell_type": "code",
   "execution_count": null,
   "id": "1b5117df-0d30-442d-a1fe-0615c0735c25",
   "metadata": {},
   "outputs": [],
   "source": []
  }
 ],
 "metadata": {
  "kernelspec": {
   "display_name": "Python 3 (ipykernel)",
   "language": "python",
   "name": "python3"
  },
  "language_info": {
   "codemirror_mode": {
    "name": "ipython",
    "version": 3
   },
   "file_extension": ".py",
   "mimetype": "text/x-python",
   "name": "python",
   "nbconvert_exporter": "python",
   "pygments_lexer": "ipython3",
   "version": "3.8.10"
  }
 },
 "nbformat": 4,
 "nbformat_minor": 5
}
